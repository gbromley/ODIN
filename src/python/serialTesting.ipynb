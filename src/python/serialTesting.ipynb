{
 "cells": [
  {
   "cell_type": "code",
   "execution_count": 1,
   "metadata": {},
   "outputs": [
    {
     "name": "stdout",
     "output_type": "stream",
     "text": [
      "Intel MKL WARNING: Support of Intel(R) Streaming SIMD Extensions 4.2 (Intel(R) SSE4.2) enabled only processors has been deprecated. Intel oneAPI Math Kernel Library 2025.0 will require Intel(R) Advanced Vector Extensions (Intel(R) AVX) instructions.\n",
      "Intel MKL WARNING: Support of Intel(R) Streaming SIMD Extensions 4.2 (Intel(R) SSE4.2) enabled only processors has been deprecated. Intel oneAPI Math Kernel Library 2025.0 will require Intel(R) Advanced Vector Extensions (Intel(R) AVX) instructions.\n"
     ]
    }
   ],
   "source": [
    "import serial\n",
    "import struct\n",
    "import numpy as np\n",
    "import time\n",
    "import signal \n",
    "import glob\n",
    "import timeit\n",
    "from time import time, sleep\n",
    "\n",
    "savePointCloud = True\n",
    "printPointCloud = True\n",
    "\n",
    "configPort_name = '/dev/tty.SLAB_USBtoUART'\n",
    "dataPort_name = '/dev/tty.SLAB_USBtoUART3'\n",
    "configFile_name = '/Users/gbromley/code/ODIN/chirp_3DPeople.cfg'\n",
    "pointCloud_fileName = './output_files/PointCloud.txt'\n",
    "\n",
    "syncPattern = 0x708050603040102\n",
    "\n",
    "# 0x0102, 0x0304, 0x0506, 0x0708\n"
   ]
  },
  {
   "cell_type": "code",
   "execution_count": 12,
   "metadata": {},
   "outputs": [
    {
     "name": "stdout",
     "output_type": "stream",
     "text": [
      "Reading configuration file\n",
      "Opening ports\n",
      "True\n",
      "True\n",
      "1719602138.296428\n",
      "bytearray(b'\\x02\\x01\\x04\\x03\\x06\\x05\\x08\\x07\\x04\\x00\\x05\\x03\\x14\\x01\\x00\\x00Ch\\n\\x00\\x01\\x00\\x00\\x00\\x00\\x00\\x00\\x00\\x00\\x00\\x00\\x00!$\\x00\\x00\\x00\\x00\\x00\\x00\\x00\\x00\\x00\\x00\\x01\\x00^_')\n",
      "<class 'tuple'>\n",
      "1\n",
      "numDetectedObj: 25\n"
     ]
    },
    {
     "ename": "FileNotFoundError",
     "evalue": "[Errno 2] No such file or directory: './output_files/PointCloud.txt'",
     "output_type": "error",
     "traceback": [
      "\u001b[0;31m---------------------------------------------------------------------------\u001b[0m",
      "\u001b[0;31mFileNotFoundError\u001b[0m                         Traceback (most recent call last)",
      "Cell \u001b[0;32mIn[12], line 92\u001b[0m\n\u001b[1;32m     89\u001b[0m \tresults_string \u001b[38;5;241m+\u001b[39m\u001b[38;5;241m=\u001b[39m \u001b[38;5;124m'\u001b[39m\u001b[38;5;132;01m%1.3f\u001b[39;00m\u001b[38;5;124m \u001b[39m\u001b[38;5;132;01m%1.3f\u001b[39;00m\u001b[38;5;124m \u001b[39m\u001b[38;5;132;01m%1.3f\u001b[39;00m\u001b[38;5;124m \u001b[39m\u001b[38;5;132;01m%1.3f\u001b[39;00m\u001b[38;5;124m \u001b[39m\u001b[38;5;132;01m%1.3f\u001b[39;00m\u001b[38;5;124m \u001b[39m\u001b[38;5;124m'\u001b[39m \u001b[38;5;241m%\u001b[39m (detectedObjects[j, \u001b[38;5;241m0\u001b[39m], detectedObjects[j, \u001b[38;5;241m1\u001b[39m], detectedObjects[j, \u001b[38;5;241m2\u001b[39m], detectedObjects[j, \u001b[38;5;241m3\u001b[39m], detectedObjects[j, \u001b[38;5;241m4\u001b[39m])\n\u001b[1;32m     91\u001b[0m \u001b[38;5;28;01mif\u001b[39;00m (savePointCloud):\n\u001b[0;32m---> 92\u001b[0m \tfilePoints \u001b[38;5;241m=\u001b[39m \u001b[38;5;28;43mopen\u001b[39;49m\u001b[43m(\u001b[49m\u001b[43mpointCloud_fileName\u001b[49m\u001b[43m,\u001b[49m\u001b[43m \u001b[49m\u001b[38;5;124;43m'\u001b[39;49m\u001b[38;5;124;43ma\u001b[39;49m\u001b[38;5;124;43m'\u001b[39;49m\u001b[43m)\u001b[49m\n\u001b[1;32m     93\u001b[0m \tfilePoints\u001b[38;5;241m.\u001b[39mwrite(results_string \u001b[38;5;241m+\u001b[39m \u001b[38;5;124m'\u001b[39m\u001b[38;5;132;01m%1.3f\u001b[39;00m\u001b[38;5;130;01m\\n\u001b[39;00m\u001b[38;5;124m'\u001b[39m \u001b[38;5;241m%\u001b[39m timePacket)\n\u001b[1;32m     94\u001b[0m \tfilePoints\u001b[38;5;241m.\u001b[39mclose()\n",
      "File \u001b[0;32m~/opt/anaconda3/envs/odin/lib/python3.11/site-packages/IPython/core/interactiveshell.py:324\u001b[0m, in \u001b[0;36m_modified_open\u001b[0;34m(file, *args, **kwargs)\u001b[0m\n\u001b[1;32m    317\u001b[0m \u001b[38;5;28;01mif\u001b[39;00m file \u001b[38;5;129;01min\u001b[39;00m {\u001b[38;5;241m0\u001b[39m, \u001b[38;5;241m1\u001b[39m, \u001b[38;5;241m2\u001b[39m}:\n\u001b[1;32m    318\u001b[0m     \u001b[38;5;28;01mraise\u001b[39;00m \u001b[38;5;167;01mValueError\u001b[39;00m(\n\u001b[1;32m    319\u001b[0m         \u001b[38;5;124mf\u001b[39m\u001b[38;5;124m\"\u001b[39m\u001b[38;5;124mIPython won\u001b[39m\u001b[38;5;124m'\u001b[39m\u001b[38;5;124mt let you open fd=\u001b[39m\u001b[38;5;132;01m{\u001b[39;00mfile\u001b[38;5;132;01m}\u001b[39;00m\u001b[38;5;124m by default \u001b[39m\u001b[38;5;124m\"\u001b[39m\n\u001b[1;32m    320\u001b[0m         \u001b[38;5;124m\"\u001b[39m\u001b[38;5;124mas it is likely to crash IPython. If you know what you are doing, \u001b[39m\u001b[38;5;124m\"\u001b[39m\n\u001b[1;32m    321\u001b[0m         \u001b[38;5;124m\"\u001b[39m\u001b[38;5;124myou can use builtins\u001b[39m\u001b[38;5;124m'\u001b[39m\u001b[38;5;124m open.\u001b[39m\u001b[38;5;124m\"\u001b[39m\n\u001b[1;32m    322\u001b[0m     )\n\u001b[0;32m--> 324\u001b[0m \u001b[38;5;28;01mreturn\u001b[39;00m \u001b[43mio_open\u001b[49m\u001b[43m(\u001b[49m\u001b[43mfile\u001b[49m\u001b[43m,\u001b[49m\u001b[43m \u001b[49m\u001b[38;5;241;43m*\u001b[39;49m\u001b[43margs\u001b[49m\u001b[43m,\u001b[49m\u001b[43m \u001b[49m\u001b[38;5;241;43m*\u001b[39;49m\u001b[38;5;241;43m*\u001b[39;49m\u001b[43mkwargs\u001b[49m\u001b[43m)\u001b[49m\n",
      "\u001b[0;31mFileNotFoundError\u001b[0m: [Errno 2] No such file or directory: './output_files/PointCloud.txt'"
     ]
    }
   ],
   "source": [
    "\n",
    "\n",
    "savePointCloud = True\n",
    "saveTracks = True\n",
    "saveTracksID = True\n",
    "\n",
    "configPort_name = '/dev/tty.SLAB_USBtoUART'\n",
    "dataPort_name = '/dev/tty.SLAB_USBtoUART3'\n",
    "configFile_name = '/Users/gbromley/code/ODIN/config/chirp_3DPeople.cfg'\n",
    "pointCloud_fileName = './output_files/PointCloud.txt'\n",
    "targetsObject_fileName = './output_files/Targets.txt'\n",
    "targetsIndex_FileName = './output_files/TargetsIndex.txt'\n",
    "\n",
    "syncPattern = 0x708050603040102\n",
    "\n",
    "try:\n",
    "\n",
    "\tprint('Reading configuration file')\n",
    "\twith open(configFile_name, 'r') as fp:\n",
    "\t\tcnt = 0\n",
    "\t\tcommands = []\n",
    "\t\tfor line in fp:\n",
    "\t\t\tif (len(line) > 1):\n",
    "\t\t\t\tif (line[0] != '%'):\n",
    "\t\t\t\t\tcommands.append(line)\n",
    "\t\t\t\t\tcnt += 1\n",
    "\tfp.close()\n",
    "\n",
    "\tprint('Opening ports')\n",
    "\tconfigPort = serial.Serial(configPort_name, 115200, parity=serial.PARITY_NONE, stopbits=serial.STOPBITS_ONE, timeout=0.3)\n",
    "\tdataPort = serial.Serial(dataPort_name, 921600, parity=serial.PARITY_NONE, stopbits=serial.STOPBITS_ONE, timeout=0.3)\n",
    "\tdataPort.reset_output_buffer()\n",
    "\tprint(dataPort.is_open)\n",
    "\tprint(configPort.is_open)\n",
    "\tfor i in range(cnt):\n",
    "\t\tconfigPort.write(bytearray(commands[i].encode()))\n",
    "\t\tsleep(20e-3)\n",
    "\n",
    "\tpacketHeader = bytearray([])\n",
    "\n",
    "\ttlvHeaderLen = 8\n",
    "\theaderLen = 48\n",
    "\n",
    "\twhile(True):\n",
    "\n",
    "\t\ttimePacket = time()\n",
    "\t\tprint(time())\n",
    "\t\tdataPort.reset_output_buffer()\n",
    "\t\tpacketHeader += dataPort.read(headerLen-len(packetHeader))\n",
    "\t\tprint(packetHeader)\n",
    "\t\tprint(type(struct.unpack('Q9I2H', packetHeader[:headerLen])))\n",
    "\t\tsync, version, totalPacketLen, platform, frameNumber, subFrameNumber, chirpProcessingMargin,frameProcessingMargin, trackProcessTime, uartSentTime, numTLVs, checksum =  struct.unpack('Q9I2H', packetHeader[:headerLen])\n",
    "\t\tprint(numTLVs)\n",
    "\t\tif (sync == syncPattern):\n",
    "\n",
    "\t\t\tpacketHeader = bytearray([])\n",
    "\t\t\tpacketPayload = dataPort.read(totalPacketLen-headerLen)\n",
    "\n",
    "\t\t\tfor i in range(numTLVs):\n",
    "\n",
    "\t\t\t\ttlvType, tlvLength = struct.unpack('2I', packetPayload[:tlvHeaderLen])\n",
    "\t\t\t\t\n",
    "\t\t\t\tif (tlvType > 20 or tlvLength > 10000):\n",
    "\t\t\t\t\tpacketHeader = bytearray([])\n",
    "\t\t\t\t\tbreak\n",
    "\n",
    "\t\t\t\tpacketPayload = packetPayload[tlvHeaderLen:]\n",
    "\n",
    "\t\t\t\tif (tlvType == 6):\n",
    "\n",
    "\t\t\t\t\tpointUnit = struct.unpack('5f', packetPayload[:20])\n",
    "\t\t\t\t\tpacketPayload = packetPayload[20:]\n",
    "\t\t\t\t\tnumDetectedObj = int((tlvLength-tlvHeaderLen-20)/8)\n",
    "\t\t\t\t\tdetectedObjects = np.zeros((numDetectedObj, 5))\n",
    "\t\t\t\t\tresults_string = ''\n",
    "\n",
    "\t\t\t\t\tprint('numDetectedObj: %d' % numDetectedObj)\n",
    "\n",
    "\t\t\t\t\tfor j in range(numDetectedObj):\n",
    "\n",
    "\t\t\t\t\t\televation_j, azimuth_j, doppler_j, range_j, snr_j = struct.unpack('2bh2H', packetPayload[:8])\n",
    "\n",
    "\t\t\t\t\t\tdetectedObjects[j, 0] = range_j * pointUnit[3]\n",
    "\t\t\t\t\t\tdetectedObjects[j, 1] = azimuth_j * pointUnit[1] * 180/np.pi\n",
    "\t\t\t\t\t\tdetectedObjects[j, 2] = elevation_j * pointUnit[0] * 180/np.pi\n",
    "\t\t\t\t\t\tdetectedObjects[j, 3] = doppler_j * pointUnit[2]\n",
    "\t\t\t\t\t\tdetectedObjects[j, 4] = snr_j * pointUnit[4]\n",
    "\n",
    "\t\t\t\t\t\tpacketPayload = packetPayload[8:]\n",
    "\n",
    "\t\t\t\t\t\tresults_string += '%1.3f %1.3f %1.3f %1.3f %1.3f ' % (detectedObjects[j, 0], detectedObjects[j, 1], detectedObjects[j, 2], detectedObjects[j, 3], detectedObjects[j, 4])\n",
    "\n",
    "\t\t\t\t\tif (savePointCloud):\n",
    "\t\t\t\t\t\tfilePoints = open(pointCloud_fileName, 'a')\n",
    "\t\t\t\t\t\tfilePoints.write(results_string + '%1.3f\\n' % timePacket)\n",
    "\t\t\t\t\t\tfilePoints.close()\n",
    "\n",
    "\t\t\t\telif (tlvType == 7):\n",
    "\n",
    "\t\t\t\t\tnumOfTargets = int((tlvLength-tlvHeaderLen)/112)\n",
    "\t\t\t\t\tDetectedTargets = np.zeros((numOfTargets, 10))\n",
    "\t\t\t\t\tresults_string = ''\n",
    "\n",
    "\t\t\t\t\tprint('numOfTargets: %d' % numOfTargets)\n",
    "\n",
    "\t\t\t\t\tfor j in range(numOfTargets):\n",
    "\n",
    "\t\t\t\t\t\ttid_j, posX_j, posY_j, posZ_j, velX_j, velY_j, velZ_j, accX_j, accY_j, accZ_j = struct.unpack('I9f', packetPayload[:40])\n",
    "\t\t\t\t\t\tec = struct.unpack('16f', packetPayload[40:40+64])\n",
    "\t\t\t\t\t\tg, confidenceLevel = struct.unpack('2f', packetPayload[40+64:112])\n",
    "\n",
    "\t\t\t\t\t\tDetectedTargets[j, 0] = tid_j\n",
    "\t\t\t\t\t\tDetectedTargets[j, 1] = posX_j\n",
    "\t\t\t\t\t\tDetectedTargets[j, 2] = posY_j\n",
    "\t\t\t\t\t\tDetectedTargets[j, 3] = posZ_j\n",
    "\t\t\t\t\t\tDetectedTargets[j, 4] = velX_j\n",
    "\t\t\t\t\t\tDetectedTargets[j, 5] = velY_j\n",
    "\t\t\t\t\t\tDetectedTargets[j, 6] = velZ_j\n",
    "\t\t\t\t\t\tDetectedTargets[j, 7] = accX_j\n",
    "\t\t\t\t\t\tDetectedTargets[j, 8] = accY_j\n",
    "\t\t\t\t\t\tDetectedTargets[j, 9] = accZ_j\n",
    "\n",
    "\t\t\t\t\t\tresults_string += '%d %1.3f %1.3f %1.3f %1.3f %1.3f %1.3f %1.3f %1.3f %1.3f ' % (DetectedTargets[j, 0], DetectedTargets[j, 1], DetectedTargets[j, 2], DetectedTargets[j, 3], DetectedTargets[j, 4], DetectedTargets[j, 5], DetectedTargets[j, 6], DetectedTargets[j, 7], DetectedTargets[j, 8], DetectedTargets[j, 9])\n",
    "\n",
    "\t\t\t\t\t\tpacketPayload = packetPayload[112:]\n",
    "\t\t\t\t\t\tprint(results_string)\n",
    "\t\t\t\t\tif (saveTracks):\n",
    "\t\t\t\t\t\tfileTracks = open(targetsObject_fileName, 'a')\n",
    "\t\t\t\t\t\tfileTracks.write(results_string + '%1.3f\\n' % timePacket)\n",
    "\t\t\t\t\t\tfileTracks.close()\n",
    "\n",
    "\t\t\t\telif (tlvType == 8):\n",
    "\n",
    "\t\t\t\t\tnumDetectedObj_previous = tlvLength-tlvHeaderLen\n",
    "\t\t\t\t\ttargetIndex = [0]*numDetectedObj_previous\n",
    "\t\t\t\t\tresults_string = ''\n",
    "\n",
    "\t\t\t\t\tfor j in range(numDetectedObj_previous):\n",
    "\n",
    "\t\t\t\t\t\ttargetIndex[j] = struct.unpack('B', packetPayload[:1])\n",
    "\t\t\t\t\t\tresults_string += '%d ' % targetIndex[j]\n",
    "\t\t\t\t\t\tpacketPayload = packetPayload[1:]\n",
    "\n",
    "\t\t\t\t\tif (saveTracksID):\n",
    "\t\t\t\t\t\tfileTracksID = open(targetsIndex_FileName, 'a')\n",
    "\t\t\t\t\t\tfileTracksID.write(results_string + '%1.3f\\n' % timePacket)\n",
    "\t\t\t\t\t\tfileTracksID.close()\n",
    "\n",
    "\t\t\tif (numTLVs > 0):\n",
    "\t\t\t\tprint(' ')\n",
    "\n",
    "\t\telse:\n",
    "\t\t\tpacketHeader = packetHeader[1:]\n",
    "\n",
    "except:\n",
    "    dataPort.close()\n",
    "    configPort.close()\n",
    "    raise\n",
    "\n",
    "\n",
    "\n",
    "\n"
   ]
  },
  {
   "cell_type": "code",
   "execution_count": 6,
   "metadata": {},
   "outputs": [
    {
     "ename": "PortNotOpenError",
     "evalue": "Attempting to use a port that is not open",
     "output_type": "error",
     "traceback": [
      "\u001b[0;31m---------------------------------------------------------------------------\u001b[0m",
      "\u001b[0;31mPortNotOpenError\u001b[0m                          Traceback (most recent call last)",
      "Cell \u001b[0;32mIn[6], line 1\u001b[0m\n\u001b[0;32m----> 1\u001b[0m \u001b[43mdataPort\u001b[49m\u001b[38;5;241;43m.\u001b[39;49m\u001b[43mread\u001b[49m\u001b[43m(\u001b[49m\u001b[43mheaderLen\u001b[49m\u001b[38;5;241;43m-\u001b[39;49m\u001b[38;5;28;43mlen\u001b[39;49m\u001b[43m(\u001b[49m\u001b[43mpacketHeader\u001b[49m\u001b[43m)\u001b[49m\u001b[43m)\u001b[49m\n",
      "File \u001b[0;32m~/opt/anaconda3/envs/odin/lib/python3.11/site-packages/serial/serialposix.py:560\u001b[0m, in \u001b[0;36mSerial.read\u001b[0;34m(self, size)\u001b[0m\n\u001b[1;32m    554\u001b[0m \u001b[38;5;250m\u001b[39m\u001b[38;5;124;03m\"\"\"\\\u001b[39;00m\n\u001b[1;32m    555\u001b[0m \u001b[38;5;124;03mRead size bytes from the serial port. If a timeout is set it may\u001b[39;00m\n\u001b[1;32m    556\u001b[0m \u001b[38;5;124;03mreturn less characters as requested. With no timeout it will block\u001b[39;00m\n\u001b[1;32m    557\u001b[0m \u001b[38;5;124;03muntil the requested number of bytes is read.\u001b[39;00m\n\u001b[1;32m    558\u001b[0m \u001b[38;5;124;03m\"\"\"\u001b[39;00m\n\u001b[1;32m    559\u001b[0m \u001b[38;5;28;01mif\u001b[39;00m \u001b[38;5;129;01mnot\u001b[39;00m \u001b[38;5;28mself\u001b[39m\u001b[38;5;241m.\u001b[39mis_open:\n\u001b[0;32m--> 560\u001b[0m     \u001b[38;5;28;01mraise\u001b[39;00m PortNotOpenError()\n\u001b[1;32m    561\u001b[0m read \u001b[38;5;241m=\u001b[39m \u001b[38;5;28mbytearray\u001b[39m()\n\u001b[1;32m    562\u001b[0m timeout \u001b[38;5;241m=\u001b[39m Timeout(\u001b[38;5;28mself\u001b[39m\u001b[38;5;241m.\u001b[39m_timeout)\n",
      "\u001b[0;31mPortNotOpenError\u001b[0m: Attempting to use a port that is not open"
     ]
    }
   ],
   "source": [
    "dataPort.read(headerLen-len(packetHeader))"
   ]
  },
  {
   "cell_type": "code",
   "execution_count": 5,
   "metadata": {},
   "outputs": [],
   "source": [
    "def readConfigFile(configFileName):\n",
    "    try:\n",
    "        with open(configFileName, 'r') as fp:\n",
    "            cnt = 0\n",
    "            commands = []\n",
    "            for line in fp:\n",
    "                if (len(line) > 1):\n",
    "                    if (line[0] != '%'):\n",
    "                        commands.append(line)\n",
    "                        cnt += 1\n",
    "        return (cnt,commands)\n",
    "    except FileNotFoundError as err:\n",
    "        print(\"Chirp config file not found.\")\n",
    "    finally:\n",
    "        fp.close()\n",
    "        \n"
   ]
  },
  {
   "cell_type": "code",
   "execution_count": 6,
   "metadata": {},
   "outputs": [
    {
     "data": {
      "text/plain": [
       "(30,\n",
       " ['sensorStop\\n',\n",
       "  'flushCfg\\n',\n",
       "  'dfeDataOutputMode 1\\n',\n",
       "  'channelCfg 15 7 0\\n',\n",
       "  'adcCfg 2 1\\n',\n",
       "  'adcbufCfg -1 0 1 1 1\\n',\n",
       "  'lowPower 0 0\\n',\n",
       "  'profileCfg 0 60.75 30.00 25.00 59.10 394758 0 54.71 1 96 2950.00 2 1 36 \\n',\n",
       "  'chirpCfg 0 0 0 0 0 0 0 1\\n',\n",
       "  'chirpCfg 1 1 0 0 0 0 0 2\\n',\n",
       "  'chirpCfg 2 2 0 0 0 0 0 4\\n',\n",
       "  'frameCfg 0 2 96 0 55 1 0\\n',\n",
       "  'dynamicRACfarCfg -1 4 4 2 2 8 12 4 8 5.00 8.00 0.40 1 1\\n',\n",
       "  'staticRACfarCfg -1 6 2 2 2 8 8 6 4 8.00 15.00 0.30 0 0\\n',\n",
       "  'dynamicRangeAngleCfg -1 0.75 0.0010 1 0\\n',\n",
       "  'dynamic2DAngleCfg -1 1.5 0.0300 1 0 1 0.30 0.85 8.00\\n',\n",
       "  'staticRangeAngleCfg -1 0 8 8\\n',\n",
       "  'antGeometry0 -1 -1 0 0 -3 -3 -2 -2 -1 -1 0 0\\n',\n",
       "  'antGeometry1 -1 0 -1 0 -3 -2 -3 -2 -3 -2 -3 -2\\n',\n",
       "  'antPhaseRot 1 -1 1 -1 1 -1 1 -1 1 -1 1 -1\\n',\n",
       "  'fovCfg -1 70.0 20.0\\n',\n",
       "  'compRangeBiasAndRxChanPhase 0 1 0 1 0 1 0 1 0 1 0 1 0 1 0 1 0 1 0 1 0 1 0 1 0\\n',\n",
       "  'staticBoundaryBox -3 3 1 3.5 -2 2\\n',\n",
       "  'boundaryBox -3.5 3.5 0.5 4 -2.5 2.5\\n',\n",
       "  'sensorPosition 2 0 15\\n',\n",
       "  'gatingParam 3 2 2 2 4\\n',\n",
       "  'stateParam 3 3 6 100 5 1000\\n',\n",
       "  'allocationParam 40 200 0.1 12 0.5 20\\n',\n",
       "  'trackingCfg 1 2 800 30 46 96 55\\n',\n",
       "  'sensorStart\\n'])"
      ]
     },
     "execution_count": 6,
     "metadata": {},
     "output_type": "execute_result"
    }
   ],
   "source": [
    "readConfigFile(configFile_name)"
   ]
  },
  {
   "cell_type": "code",
   "execution_count": 7,
   "metadata": {},
   "outputs": [
    {
     "name": "stdout",
     "output_type": "stream",
     "text": [
      "['/dev/tty.SLAB_USBtoUART', '/dev/tty.SLAB_USBtoUART3']\n"
     ]
    }
   ],
   "source": [
    "serialPorts = glob.glob('/dev/tty.SLAB*')\n",
    "print(serialPorts)"
   ]
  },
  {
   "cell_type": "code",
   "execution_count": 10,
   "metadata": {},
   "outputs": [],
   "source": [
    "\n",
    "configPort = serial.Serial(serialPorts[1], 115200, parity=serial.PARITY_NONE, stopbits=serial.STOPBITS_ONE, timeout=0.3)\n",
    "dataPort = serial.Serial(serialPorts[0],921600, parity=serial.PARITY_NONE, stopbits=serial.STOPBITS_ONE, timeout=0.3)"
   ]
  },
  {
   "cell_type": "code",
   "execution_count": 8,
   "metadata": {},
   "outputs": [],
   "source": [
    "configPort.close()\n",
    "dataPort.close()"
   ]
  },
  {
   "cell_type": "code",
   "execution_count": 11,
   "metadata": {},
   "outputs": [],
   "source": [
    "def writeConfig(configPort, configFileName):\n",
    "    cnt,commands = readConfigFile(configFileName)\n",
    "    \n",
    "    for i in range(cnt):\n",
    "        configPort.write(bytearray(commands[i].encode()))\n",
    "        time.sleep(20e-3)\n",
    "        response = bytearray([])\n",
    "        while(configPort.in_waiting > 0):\n",
    "            response += configPort.read(1)\n",
    "        print(response.decode())"
   ]
  },
  {
   "cell_type": "code",
   "execution_count": 12,
   "metadata": {},
   "outputs": [
    {
     "name": "stdout",
     "output_type": "stream",
     "text": [
      "sensorStop\n",
      "Ignored: Sensor is already stopped\n",
      "Done\n",
      "mmwDemo:/>\n",
      "flushCfg\n",
      "Done\n",
      "mmwDemo:/>\n",
      "dfeDataOutputMode 1\n",
      "Done\n",
      "mmwDemo:/>\n",
      "channelCfg 15 7 0\n",
      "Done\n",
      "mmwDemo:/>\n",
      "adcCfg 2 1\n",
      "Done\n",
      "mmwDemo:/>\n",
      "adcbufCfg -1 0 1 1 1\n",
      "Done\n",
      "mmwDemo:/>\n",
      "lowPower 0 0\n",
      "Done\n",
      "mmwDemo:/>\n",
      "profileCfg 0 60.75 30.00 25.00 59.10 394758 0 54.71 1 96 2950.00 2 1 36 \n",
      "Done\n",
      "mmwDemo:/>\n",
      "chirpCfg 0 0 0 0 0 0 0 1\n",
      "Done\n",
      "mmwDemo:/>\n",
      "chirpCfg 1 1 0 0 0 0 0 2\n",
      "Done\n",
      "mmwDemo:/>\n",
      "chirpCfg 2 2 0 0 0 0 0 4\n",
      "Done\n",
      "mmwDemo:/>\n",
      "frameCfg 0 2 96 0 55 1 0\n",
      "Done\n",
      "mmwDemo:/>\n",
      "dynamicRACfarCfg -1 4 4 2 2 8 12 4 8 5.00 8.00 0.40 1 1\n",
      "Done\n",
      "mmwDemo:/>\n",
      "staticRACfarCfg -1 6 2 2 2 8 8 6 4 8.00 15.00 0.30 0 0\n",
      "Done\n",
      "mmwDemo:/>\n",
      "dynamicRangeAngleCfg -1 0.75 0.0010 1 0\n",
      "Done\n",
      "mmwDemo:/>\n",
      "dynamic2DAngleCfg -1 1.5 0.0300 1 0 1 0.30 0.85 8.00\n",
      "Done\n",
      "mmwDemo:/>\n",
      "staticRangeAngleCfg -1 0 8 8\n",
      "Done\n",
      "mmwDemo:/>\n",
      "antGeometry0 -1 -1 0 0 -3 -3 -2 -2 -1 -1 0 0\n",
      "Done\n",
      "mmwDemo:/>\n",
      "antGeometry1 -1 0 -1 0 -3 -2 -3 -2 -3 -2 -3 -2\n",
      "Done\n",
      "mmwDemo:/>\n",
      "antPhaseRot 1 -1 1 -1 1 -1 1 -1 1 -1 1 -1\n",
      "Done\n",
      "mmwDemo:/>\n",
      "fovCfg -1 70.0 20.0\n",
      "Done\n",
      "mmwDemo:/>\n",
      "compRangeBiasAndRxChanPhase 0 1 0 1 0 1 0 1 0 1 0 1 0 1 0 1 0 1 0 1 0 1 0 1 0\n",
      "Done\n",
      "mmwDemo:/>\n",
      "staticBoundaryBox -3 3 1 3.5 -2 2\n",
      "Done\n",
      "mmwDemo:/>\n",
      "boundaryBox -3.5 3.5 0.5 4 -2.5 2.5\n",
      "Done\n",
      "mmwDemo:/>\n",
      "sensorPosition 2 0 15\n",
      "Done\n",
      "mmwDemo:/>\n",
      "gatingParam 3 2 2 2 4\n",
      "Done\n",
      "mmwDemo:/>\n",
      "stateParam 3 3 6 100 5 1000\n",
      "Done\n",
      "mmwDemo:/>\n",
      "allocationParam 40 200 0.1 12 0.5 20\n",
      "Done\n",
      "mmwDemo:/>\n",
      "trackingCfg 1 2 800 30 46 96 55\n",
      "Done\n",
      "mmwDemo:/>\n",
      "sensorStart\n",
      "\n"
     ]
    }
   ],
   "source": [
    "writeConfig(configPort, configFile_name)"
   ]
  },
  {
   "cell_type": "code",
   "execution_count": 9,
   "metadata": {},
   "outputs": [],
   "source": [
    "def signal_handler(signal, frame):\n",
    "        global run\n",
    "        print(\"exiting\")\n",
    "        run = False"
   ]
  },
  {
   "cell_type": "code",
   "execution_count": 11,
   "metadata": {},
   "outputs": [
    {
     "data": {
      "text/plain": [
       "True"
      ]
     },
     "execution_count": 11,
     "metadata": {},
     "output_type": "execute_result"
    }
   ],
   "source": [
    "dataPort.isOpen()"
   ]
  },
  {
   "cell_type": "code",
   "execution_count": 11,
   "metadata": {},
   "outputs": [
    {
     "data": {
      "text/plain": [
       "<function _signal.default_int_handler>"
      ]
     },
     "execution_count": 11,
     "metadata": {},
     "output_type": "execute_result"
    }
   ],
   "source": [
    "signal.signal(signal.SIGINT, signal_handler)   "
   ]
  },
  {
   "cell_type": "code",
   "execution_count": 169,
   "metadata": {},
   "outputs": [
    {
     "data": {
      "text/plain": [
       "0"
      ]
     },
     "execution_count": 169,
     "metadata": {},
     "output_type": "execute_result"
    }
   ],
   "source": [
    "dataPort.in_waiting\n"
   ]
  },
  {
   "cell_type": "code",
   "execution_count": 13,
   "metadata": {},
   "outputs": [],
   "source": [
    "def readPacketHeader(dataPort):\n",
    "    dataPort.reset_input_buffer()\n",
    "\n",
    "    \n",
    "    \n",
    "    syncPattern = 0x708050603040102\n",
    "    ### Packet header is 40 total bytes, 8 bytes for magic/sync word and 32 bytes for 8 other variables. \n",
    "    ### The format for struct.unpack is Q8I because the magic word is 8 bytes and Q stands for unsigned long long. 8I means that 8 unsigned ints follow\n",
    "    packetHeader = bytearray([])\n",
    "    tlvHeaderLen = 8\n",
    "    headerLen = 40\n",
    "    timePacket = time.time()\n",
    "    run = True\n",
    "    \n",
    "    while(True):\n",
    "        \n",
    "        try:\n",
    "            \n",
    "            \n",
    "            ### These lines of code basically grab the header data and shifts it by one until the sync value is found. \n",
    "            packetHeader += dataPort.read(headerLen-len(packetHeader))\n",
    "            \n",
    "            #print(len(packetHeader))\n",
    "            sync, version, totalPacketLen, platform, frameNumber, timeCpuCycles, numDetectedObj, numTLVs, subFrameNumber =  struct.unpack('Q8I', packetHeader[:headerLen])\n",
    "            if (sync == syncPattern):\n",
    "                \n",
    "                print('success')\n",
    "                print(time.perf_counter())\n",
    "                print(f'MagicWord: {sync}, Version: {version}, Total Packet Length: {totalPacketLen}, Platform: {platform}, Frame Number: {frameNumber}, Time CPU Cycles {timeCpuCycles}, Number of Objects: {numDetectedObj}, Number of TLVs: {numTLVs}, Sub Frame Number: {subFrameNumber}')\n",
    "                    \n",
    "                return sync, version, totalPacketLen, platform, frameNumber, timeCpuCycles, numDetectedObj, numTLVs, subFrameNumber\n",
    "                #break\n",
    "            else:\n",
    "                packetHeader = packetHeader[1:]\n",
    "        except serial.SerialException as serialError:\n",
    "            print('Something is not correct with the serial port')\n",
    "            break\n",
    "            \n",
    "        except KeyboardInterrupt:\n",
    "            break"
   ]
  },
  {
   "cell_type": "code",
   "execution_count": 14,
   "metadata": {},
   "outputs": [
    {
     "name": "stdout",
     "output_type": "stream",
     "text": [
      "success\n",
      "715006.065415167\n",
      "MagicWord: 506660481457717506, Version: 50659332, Total Packet Length: 84, Platform: 682051, Frame Number: 15, Time CPU Cycles 0, Number of Objects: 0, Number of TLVs: 7435, Sub Frame Number: 5\n"
     ]
    },
    {
     "data": {
      "text/plain": [
       "(506660481457717506, 50659332, 84, 682051, 15, 0, 0, 7435, 5)"
      ]
     },
     "execution_count": 14,
     "metadata": {},
     "output_type": "execute_result"
    }
   ],
   "source": [
    "\n",
    "\n",
    "readPacketHeader(dataPort)\n"
   ]
  },
  {
   "cell_type": "code",
   "execution_count": 170,
   "metadata": {},
   "outputs": [
    {
     "data": {
      "text/plain": [
       "0"
      ]
     },
     "execution_count": 170,
     "metadata": {},
     "output_type": "execute_result"
    }
   ],
   "source": [
    "dataPort.reset_input_buffer()\n",
    "dataPort.in_waiting\n"
   ]
  },
  {
   "cell_type": "code",
   "execution_count": 173,
   "metadata": {},
   "outputs": [],
   "source": [
    "def testData():\n",
    "    \n",
    "    sync, version, totalPacketLen, platform, frameNumber, timeCpuCycles, numDetectedObj, numTLVs, subFrameNumber = readPacketHeader(dataPort)\n",
    "    print(sync)\n",
    "    "
   ]
  },
  {
   "cell_type": "code",
   "execution_count": 174,
   "metadata": {},
   "outputs": [
    {
     "data": {
      "text/plain": [
       "b'\\x00'"
      ]
     },
     "execution_count": 174,
     "metadata": {},
     "output_type": "execute_result"
    }
   ],
   "source": [
    "dataPort.read()"
   ]
  },
  {
   "cell_type": "code",
   "execution_count": 15,
   "metadata": {},
   "outputs": [],
   "source": [
    "def readDataFrame(dataPort):\n",
    "    start = time.time()\n",
    "    timePacket = time.time()\n",
    "    headerLen = 40\n",
    "    tlvHeaderLen = 8\n",
    "    radarData = []\n",
    "    #packetHeader += dataPort.read(headerLen-len(packetHeader))\n",
    "    ### Packet header is 40 total bytes, 8 bytes for magic/sync word and 32 bytes for 8 other variables. \n",
    "    ### The format for struct.unpack is Q8I because the magic word is 8 bytes and Q stands for unsigned long long. 8I means that 8 unsigned ints follow\n",
    "    sync, version, totalPacketLen, platform, frameNumber, timeCpuCycles, numDetectedObj, numTLVs, subFrameNumber = readPacketHeader(dataPort)\n",
    "\n",
    "    if (sync == syncPattern):\n",
    "\n",
    "        packetPayload = bytearray([])\n",
    "        packetPayload = dataPort.read(totalPacketLen-headerLen)\n",
    "\n",
    "        detectedObjects = np.zeros((numDetectedObj, 6))\n",
    "\n",
    "        for i in range(numTLVs):\n",
    "\n",
    "            tlvType, tlvLength = struct.unpack('2I', packetPayload[:tlvHeaderLen])\n",
    "\n",
    "            if (tlvType > 20 or tlvLength > 10000):\n",
    "                packetHeader = bytearray([])\n",
    "                break\n",
    "\n",
    "            packetPayload = packetPayload[tlvHeaderLen:]\n",
    "\n",
    "            if (tlvType == 1):\n",
    "\n",
    "                for j in range(numDetectedObj):\n",
    "\n",
    "                    x, y, z, v = struct.unpack('4f', packetPayload[:16])\n",
    "                    \n",
    "                    detectedObjects[j, 0] = x\n",
    "                    detectedObjects[j, 1] = y\n",
    "                    detectedObjects[j, 2] = z\n",
    "                    detectedObjects[j, 3] = v\n",
    "\n",
    "                    packetPayload = packetPayload[16:]\n",
    "\n",
    "            elif (tlvType == 7):\n",
    "\n",
    "                for j in range(numDetectedObj):\n",
    "\n",
    "                    snr, noise = struct.unpack('2H', packetPayload[:4])\n",
    "\n",
    "                    detectedObjects[j, 4] = snr\n",
    "                    detectedObjects[j, 5] = noise\n",
    "\n",
    "                    #if (printPointCloud):\n",
    "                        \n",
    "                        #print('x: %1.3f m, y: %1.3f m, z: %1.3f m, v: %1.3f m/s, snr: %d, noise: %d' % (detectedObjects[j, 0], detectedObjects[j, 1], detectedObjects[j, 2], detectedObjects[j, 3], detectedObjects[j, 4], detectedObjects[j, 5]))\n",
    "\n",
    "                    packetPayload = packetPayload[4:]\n",
    "    return detectedObjects"
   ]
  },
  {
   "cell_type": "code",
   "execution_count": 16,
   "metadata": {},
   "outputs": [
    {
     "name": "stdout",
     "output_type": "stream",
     "text": [
      "success\n",
      "715032.796155125\n",
      "MagicWord: 506660481457717506, Version: 50659332, Total Packet Length: 84, Platform: 682051, Frame Number: 29, Time CPU Cycles 0, Number of Objects: 0, Number of TLVs: 7427, Sub Frame Number: 5\n"
     ]
    },
    {
     "data": {
      "text/plain": [
       "array([], shape=(0, 6), dtype=float64)"
      ]
     },
     "execution_count": 16,
     "metadata": {},
     "output_type": "execute_result"
    }
   ],
   "source": [
    "readDataFrame(dataPort)"
   ]
  },
  {
   "cell_type": "code",
   "execution_count": 194,
   "metadata": {},
   "outputs": [
    {
     "ename": "TypeError",
     "evalue": "cannot unpack non-iterable NoneType object",
     "output_type": "error",
     "traceback": [
      "\u001b[0;31m---------------------------------------------------------------------------\u001b[0m",
      "\u001b[0;31mTypeError\u001b[0m                                 Traceback (most recent call last)",
      "\u001b[1;32mUntitled-1.ipynb Cell 19\u001b[0m in \u001b[0;36m<cell line: 3>\u001b[0;34m()\u001b[0m\n\u001b[1;32m      <a href='vscode-notebook-cell:Untitled-1.ipynb?jupyter-notebook#X26sdW50aXRsZWQ%3D?line=1'>2</a>\u001b[0m \u001b[39mwhile\u001b[39;00m(\u001b[39mTrue\u001b[39;00m):\n\u001b[1;32m      <a href='vscode-notebook-cell:Untitled-1.ipynb?jupyter-notebook#X26sdW50aXRsZWQ%3D?line=2'>3</a>\u001b[0m     clear_output(wait\u001b[39m=\u001b[39m\u001b[39mTrue\u001b[39;00m)\n\u001b[0;32m----> <a href='vscode-notebook-cell:Untitled-1.ipynb?jupyter-notebook#X26sdW50aXRsZWQ%3D?line=3'>4</a>\u001b[0m     readDataFrame(dataPort)\n",
      "\u001b[1;32mUntitled-1.ipynb Cell 19\u001b[0m in \u001b[0;36mreadDataFrame\u001b[0;34m(dataPort)\u001b[0m\n\u001b[1;32m      <a href='vscode-notebook-cell:Untitled-1.ipynb?jupyter-notebook#X26sdW50aXRsZWQ%3D?line=5'>6</a>\u001b[0m radarData \u001b[39m=\u001b[39m []\n\u001b[1;32m      <a href='vscode-notebook-cell:Untitled-1.ipynb?jupyter-notebook#X26sdW50aXRsZWQ%3D?line=6'>7</a>\u001b[0m \u001b[39m#packetHeader += dataPort.read(headerLen-len(packetHeader))\u001b[39;00m\n\u001b[1;32m      <a href='vscode-notebook-cell:Untitled-1.ipynb?jupyter-notebook#X26sdW50aXRsZWQ%3D?line=7'>8</a>\u001b[0m \u001b[39m### Packet header is 40 total bytes, 8 bytes for magic/sync word and 32 bytes for 8 other variables. \u001b[39;00m\n\u001b[1;32m      <a href='vscode-notebook-cell:Untitled-1.ipynb?jupyter-notebook#X26sdW50aXRsZWQ%3D?line=8'>9</a>\u001b[0m \u001b[39m### The format for struct.unpack is Q8I because the magic word is 8 bytes and Q stands for unsigned long long. 8I means that 8 unsigned ints follow\u001b[39;00m\n\u001b[0;32m---> <a href='vscode-notebook-cell:Untitled-1.ipynb?jupyter-notebook#X26sdW50aXRsZWQ%3D?line=9'>10</a>\u001b[0m sync, version, totalPacketLen, platform, frameNumber, timeCpuCycles, numDetectedObj, numTLVs, subFrameNumber \u001b[39m=\u001b[39m readPacketHeader(dataPort)\n\u001b[1;32m     <a href='vscode-notebook-cell:Untitled-1.ipynb?jupyter-notebook#X26sdW50aXRsZWQ%3D?line=11'>12</a>\u001b[0m \u001b[39mif\u001b[39;00m (sync \u001b[39m==\u001b[39m syncPattern):\n\u001b[1;32m     <a href='vscode-notebook-cell:Untitled-1.ipynb?jupyter-notebook#X26sdW50aXRsZWQ%3D?line=13'>14</a>\u001b[0m     packetPayload \u001b[39m=\u001b[39m \u001b[39mbytearray\u001b[39m([])\n",
      "\u001b[0;31mTypeError\u001b[0m: cannot unpack non-iterable NoneType object"
     ]
    }
   ],
   "source": [
    "from IPython.display import clear_output\n",
    "while(True):\n",
    "    clear_output(wait=True)\n",
    "    readDataFrame(dataPort)"
   ]
  },
  {
   "cell_type": "code",
   "execution_count": 175,
   "metadata": {},
   "outputs": [
    {
     "ename": "TypeError",
     "evalue": "cannot unpack non-iterable NoneType object",
     "output_type": "error",
     "traceback": [
      "\u001b[0;31m---------------------------------------------------------------------------\u001b[0m",
      "\u001b[0;31mTypeError\u001b[0m                                 Traceback (most recent call last)",
      "\u001b[1;32mUntitled-1.ipynb Cell 20\u001b[0m in \u001b[0;36m<cell line: 1>\u001b[0;34m()\u001b[0m\n\u001b[0;32m----> <a href='vscode-notebook-cell:Untitled-1.ipynb?jupyter-notebook#X31sdW50aXRsZWQ%3D?line=0'>1</a>\u001b[0m readDataFrame(dataPort)\n",
      "\u001b[1;32mUntitled-1.ipynb Cell 20\u001b[0m in \u001b[0;36mreadDataFrame\u001b[0;34m(dataPort)\u001b[0m\n\u001b[1;32m      <a href='vscode-notebook-cell:Untitled-1.ipynb?jupyter-notebook#X31sdW50aXRsZWQ%3D?line=5'>6</a>\u001b[0m radarData \u001b[39m=\u001b[39m []\n\u001b[1;32m      <a href='vscode-notebook-cell:Untitled-1.ipynb?jupyter-notebook#X31sdW50aXRsZWQ%3D?line=6'>7</a>\u001b[0m \u001b[39m#packetHeader += dataPort.read(headerLen-len(packetHeader))\u001b[39;00m\n\u001b[1;32m      <a href='vscode-notebook-cell:Untitled-1.ipynb?jupyter-notebook#X31sdW50aXRsZWQ%3D?line=7'>8</a>\u001b[0m \u001b[39m### Packet header is 40 total bytes, 8 bytes for magic/sync word and 32 bytes for 8 other variables. \u001b[39;00m\n\u001b[1;32m      <a href='vscode-notebook-cell:Untitled-1.ipynb?jupyter-notebook#X31sdW50aXRsZWQ%3D?line=8'>9</a>\u001b[0m \u001b[39m### The format for struct.unpack is Q8I because the magic word is 8 bytes and Q stands for unsigned long long. 8I means that 8 unsigned ints follow\u001b[39;00m\n\u001b[0;32m---> <a href='vscode-notebook-cell:Untitled-1.ipynb?jupyter-notebook#X31sdW50aXRsZWQ%3D?line=9'>10</a>\u001b[0m sync, version, totalPacketLen, platform, frameNumber, timeCpuCycles, numDetectedObj, numTLVs, subFrameNumber \u001b[39m=\u001b[39m readPacketHeader(dataPort)\n\u001b[1;32m     <a href='vscode-notebook-cell:Untitled-1.ipynb?jupyter-notebook#X31sdW50aXRsZWQ%3D?line=11'>12</a>\u001b[0m \u001b[39mif\u001b[39;00m (sync \u001b[39m==\u001b[39m syncPattern):\n\u001b[1;32m     <a href='vscode-notebook-cell:Untitled-1.ipynb?jupyter-notebook#X31sdW50aXRsZWQ%3D?line=13'>14</a>\u001b[0m     packetPayload \u001b[39m=\u001b[39m \u001b[39mbytearray\u001b[39m([])\n",
      "\u001b[0;31mTypeError\u001b[0m: cannot unpack non-iterable NoneType object"
     ]
    }
   ],
   "source": [
    "readDataFrame(dataPort)"
   ]
  }
 ],
 "metadata": {
  "kernelspec": {
   "display_name": "aegis",
   "language": "python",
   "name": "python3"
  },
  "language_info": {
   "codemirror_mode": {
    "name": "ipython",
    "version": 3
   },
   "file_extension": ".py",
   "mimetype": "text/x-python",
   "name": "python",
   "nbconvert_exporter": "python",
   "pygments_lexer": "ipython3",
   "version": "3.11.5"
  },
  "orig_nbformat": 4
 },
 "nbformat": 4,
 "nbformat_minor": 2
}
