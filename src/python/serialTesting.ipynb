{
 "cells": [
  {
   "cell_type": "code",
   "execution_count": 1,
   "metadata": {},
   "outputs": [
    {
     "name": "stdout",
     "output_type": "stream",
     "text": [
      "Intel MKL WARNING: Support of Intel(R) Streaming SIMD Extensions 4.2 (Intel(R) SSE4.2) enabled only processors has been deprecated. Intel oneAPI Math Kernel Library 2025.0 will require Intel(R) Advanced Vector Extensions (Intel(R) AVX) instructions.\n",
      "Intel MKL WARNING: Support of Intel(R) Streaming SIMD Extensions 4.2 (Intel(R) SSE4.2) enabled only processors has been deprecated. Intel oneAPI Math Kernel Library 2025.0 will require Intel(R) Advanced Vector Extensions (Intel(R) AVX) instructions.\n",
      "/Users/gbromley/code/ODIN\n"
     ]
    }
   ],
   "source": [
    "import serial\n",
    "import struct\n",
    "import numpy as np\n",
    "import time\n",
    "import signal \n",
    "import glob\n",
    "import timeit\n",
    "from time import time, sleep\n",
    "\n",
    "import os\n",
    "import sys\n",
    "\n",
    "# Add the project root directory to the Python path\n",
    "project_root = os.path.abspath(os.path.join(os.getcwd(), '../..'))\n",
    "print(project_root)\n",
    "sys.path.insert(0, project_root)\n",
    "\n",
    "import src.python.uart.uart_comms as uc\n",
    "\n",
    "savePointCloud = True\n",
    "printPointCloud = True\n",
    "\n",
    "configPort_name = '/dev/tty.SLAB_USBtoUART'\n",
    "dataPort_name = '/dev/tty.SLAB_USBtoUART3'\n",
    "configFile_name = '/Users/gbromley/code/ODIN/chirp_3DPeople.cfg'\n",
    "pointCloud_fileName = './output_files/PointCloud.txt'\n",
    "\n",
    "syncPattern = 0x708050603040102\n",
    "\n",
    "\n"
   ]
  },
  {
   "cell_type": "code",
   "execution_count": 2,
   "metadata": {},
   "outputs": [],
   "source": [
    "serial_com = uc.RadarCom(config_port=configPort_name, config_baud=115200, data_port=dataPort_name, data_baud=921600, sync_pattern=0x708050603040102)"
   ]
  },
  {
   "cell_type": "code",
   "execution_count": null,
   "metadata": {},
   "outputs": [],
   "source": [
    "\n",
    "\n",
    "savePointCloud = True\n",
    "saveTracks = True\n",
    "saveTracksID = True\n",
    "\n",
    "configPort_name = '/dev/tty.SLAB_USBtoUART'\n",
    "dataPort_name = '/dev/tty.SLAB_USBtoUART3'\n",
    "configFile_name = '/Users/gbromley/code/ODIN/config/chirp_3DPeople.cfg'\n",
    "pointCloud_fileName = './output_files/PointCloud.txt'\n",
    "targetsObject_fileName = './output_files/Targets.txt'\n",
    "targetsIndex_FileName = './output_files/TargetsIndex.txt'\n",
    "\n",
    "syncPattern = 0x708050603040102\n",
    "\n",
    "try:\n",
    "\n",
    "\tprint('Reading configuration file')\n",
    "\twith open(configFile_name, 'r') as fp:\n",
    "\t\tcnt = 0\n",
    "\t\tcommands = []\n",
    "\t\tfor line in fp:\n",
    "\t\t\tif (len(line) > 1):\n",
    "\t\t\t\tif (line[0] != '%'):\n",
    "\t\t\t\t\tcommands.append(line)\n",
    "\t\t\t\t\tcnt += 1\n",
    "\tfp.close()\n",
    "\n",
    "\tprint('Opening ports')\n",
    "\tconfigPort = serial.Serial(configPort_name, 115200, parity=serial.PARITY_NONE, stopbits=serial.STOPBITS_ONE, timeout=0.3)\n",
    "\tdataPort = serial.Serial(dataPort_name, 921600, parity=serial.PARITY_NONE, stopbits=serial.STOPBITS_ONE, timeout=0.3)\n",
    "\tdataPort.reset_output_buffer()\n",
    "\tprint(dataPort.is_open)\n",
    "\tprint(configPort.is_open)\n",
    "\tfor i in range(cnt):\n",
    "\t\tconfigPort.write(bytearray(commands[i].encode()))\n",
    "\t\tsleep(20e-3)\n",
    "\n",
    "\tpacketHeader = bytearray([])\n",
    "\n",
    "\ttlvHeaderLen = 8\n",
    "\theaderLen = 48\n",
    "\n",
    "\twhile(True):\n",
    "\n",
    "\t\ttimePacket = time()\n",
    "\t\tprint(time())\n",
    "\t\tdataPort.reset_output_buffer()\n",
    "\t\tpacketHeader += dataPort.read(headerLen-len(packetHeader))\n",
    "\t\tprint(packetHeader)\n",
    "\t\tprint(type(struct.unpack('Q9I2H', packetHeader[:headerLen])))\n",
    "\t\tsync, version, totalPacketLen, platform, frameNumber, subFrameNumber, chirpProcessingMargin,frameProcessingMargin, trackProcessTime, uartSentTime, numTLVs, checksum =  struct.unpack('Q9I2H', packetHeader[:headerLen])\n",
    "\t\tprint(numTLVs)\n",
    "\t\tif (sync == syncPattern):\n",
    "\n",
    "\t\t\tpacketHeader = bytearray([])\n",
    "\t\t\tpacketPayload = dataPort.read(totalPacketLen-headerLen)\n",
    "\n",
    "\t\t\tfor i in range(numTLVs):\n",
    "\n",
    "\t\t\t\ttlvType, tlvLength = struct.unpack('2I', packetPayload[:tlvHeaderLen])\n",
    "\t\t\t\t\n",
    "\t\t\t\tif (tlvType > 20 or tlvLength > 10000):\n",
    "\t\t\t\t\tpacketHeader = bytearray([])\n",
    "\t\t\t\t\tbreak\n",
    "\n",
    "\t\t\t\tpacketPayload = packetPayload[tlvHeaderLen:]\n",
    "\n",
    "\t\t\t\tif (tlvType == 6):\n",
    "\n",
    "\t\t\t\t\tpointUnit = struct.unpack('5f', packetPayload[:20])\n",
    "\t\t\t\t\tpacketPayload = packetPayload[20:]\n",
    "\t\t\t\t\tnumDetectedObj = int((tlvLength-tlvHeaderLen-20)/8)\n",
    "\t\t\t\t\tdetectedObjects = np.zeros((numDetectedObj, 5))\n",
    "\t\t\t\t\tresults_string = ''\n",
    "\n",
    "\t\t\t\t\tprint('numDetectedObj: %d' % numDetectedObj)\n",
    "\n",
    "\t\t\t\t\tfor j in range(numDetectedObj):\n",
    "\n",
    "\t\t\t\t\t\televation_j, azimuth_j, doppler_j, range_j, snr_j = struct.unpack('2bh2H', packetPayload[:8])\n",
    "\n",
    "\t\t\t\t\t\tdetectedObjects[j, 0] = range_j * pointUnit[3]\n",
    "\t\t\t\t\t\tdetectedObjects[j, 1] = azimuth_j * pointUnit[1] * 180/np.pi\n",
    "\t\t\t\t\t\tdetectedObjects[j, 2] = elevation_j * pointUnit[0] * 180/np.pi\n",
    "\t\t\t\t\t\tdetectedObjects[j, 3] = doppler_j * pointUnit[2]\n",
    "\t\t\t\t\t\tdetectedObjects[j, 4] = snr_j * pointUnit[4]\n",
    "\n",
    "\t\t\t\t\t\tpacketPayload = packetPayload[8:]\n",
    "\n",
    "\t\t\t\t\t\tresults_string += '%1.3f %1.3f %1.3f %1.3f %1.3f ' % (detectedObjects[j, 0], detectedObjects[j, 1], detectedObjects[j, 2], detectedObjects[j, 3], detectedObjects[j, 4])\n",
    "\n",
    "\t\t\t\t\tif (savePointCloud):\n",
    "\t\t\t\t\t\tfilePoints = open(pointCloud_fileName, 'a')\n",
    "\t\t\t\t\t\tfilePoints.write(results_string + '%1.3f\\n' % timePacket)\n",
    "\t\t\t\t\t\tfilePoints.close()\n",
    "\n",
    "\t\t\t\telif (tlvType == 7):\n",
    "\n",
    "\t\t\t\t\tnumOfTargets = int((tlvLength-tlvHeaderLen)/112)\n",
    "\t\t\t\t\tDetectedTargets = np.zeros((numOfTargets, 10))\n",
    "\t\t\t\t\tresults_string = ''\n",
    "\n",
    "\t\t\t\t\tprint('numOfTargets: %d' % numOfTargets)\n",
    "\n",
    "\t\t\t\t\tfor j in range(numOfTargets):\n",
    "\n",
    "\t\t\t\t\t\ttid_j, posX_j, posY_j, posZ_j, velX_j, velY_j, velZ_j, accX_j, accY_j, accZ_j = struct.unpack('I9f', packetPayload[:40])\n",
    "\t\t\t\t\t\tec = struct.unpack('16f', packetPayload[40:40+64])\n",
    "\t\t\t\t\t\tg, confidenceLevel = struct.unpack('2f', packetPayload[40+64:112])\n",
    "\n",
    "\t\t\t\t\t\tDetectedTargets[j, 0] = tid_j\n",
    "\t\t\t\t\t\tDetectedTargets[j, 1] = posX_j\n",
    "\t\t\t\t\t\tDetectedTargets[j, 2] = posY_j\n",
    "\t\t\t\t\t\tDetectedTargets[j, 3] = posZ_j\n",
    "\t\t\t\t\t\tDetectedTargets[j, 4] = velX_j\n",
    "\t\t\t\t\t\tDetectedTargets[j, 5] = velY_j\n",
    "\t\t\t\t\t\tDetectedTargets[j, 6] = velZ_j\n",
    "\t\t\t\t\t\tDetectedTargets[j, 7] = accX_j\n",
    "\t\t\t\t\t\tDetectedTargets[j, 8] = accY_j\n",
    "\t\t\t\t\t\tDetectedTargets[j, 9] = accZ_j\n",
    "\n",
    "\t\t\t\t\t\tresults_string += '%d %1.3f %1.3f %1.3f %1.3f %1.3f %1.3f %1.3f %1.3f %1.3f ' % (DetectedTargets[j, 0], DetectedTargets[j, 1], DetectedTargets[j, 2], DetectedTargets[j, 3], DetectedTargets[j, 4], DetectedTargets[j, 5], DetectedTargets[j, 6], DetectedTargets[j, 7], DetectedTargets[j, 8], DetectedTargets[j, 9])\n",
    "\n",
    "\t\t\t\t\t\tpacketPayload = packetPayload[112:]\n",
    "\t\t\t\t\t\tprint(results_string)\n",
    "\t\t\t\t\tif (saveTracks):\n",
    "\t\t\t\t\t\tfileTracks = open(targetsObject_fileName, 'a')\n",
    "\t\t\t\t\t\tfileTracks.write(results_string + '%1.3f\\n' % timePacket)\n",
    "\t\t\t\t\t\tfileTracks.close()\n",
    "\n",
    "\t\t\t\telif (tlvType == 8):\n",
    "\n",
    "\t\t\t\t\tnumDetectedObj_previous = tlvLength-tlvHeaderLen\n",
    "\t\t\t\t\ttargetIndex = [0]*numDetectedObj_previous\n",
    "\t\t\t\t\tresults_string = ''\n",
    "\n",
    "\t\t\t\t\tfor j in range(numDetectedObj_previous):\n",
    "\n",
    "\t\t\t\t\t\ttargetIndex[j] = struct.unpack('B', packetPayload[:1])\n",
    "\t\t\t\t\t\tresults_string += '%d ' % targetIndex[j]\n",
    "\t\t\t\t\t\tpacketPayload = packetPayload[1:]\n",
    "\n",
    "\t\t\t\t\tif (saveTracksID):\n",
    "\t\t\t\t\t\tfileTracksID = open(targetsIndex_FileName, 'a')\n",
    "\t\t\t\t\t\tfileTracksID.write(results_string + '%1.3f\\n' % timePacket)\n",
    "\t\t\t\t\t\tfileTracksID.close()\n",
    "\n",
    "\t\t\tif (numTLVs > 0):\n",
    "\t\t\t\tprint(' ')\n",
    "\n",
    "\t\telse:\n",
    "\t\t\tpacketHeader = packetHeader[1:]\n",
    "\n",
    "except:\n",
    "    dataPort.close()\n",
    "    configPort.close()\n",
    "    raise\n",
    "\n",
    "\n",
    "\n",
    "\n"
   ]
  },
  {
   "cell_type": "code",
   "execution_count": 3,
   "metadata": {},
   "outputs": [
    {
     "name": "stdout",
     "output_type": "stream",
     "text": [
      "Connected to /dev/tty.SLAB_USBtoUART3 at 921600 baud\n",
      "Connected to /dev/tty.SLAB_USBtoUART at 115200 baud\n"
     ]
    }
   ],
   "source": [
    "serial_com.connect()"
   ]
  },
  {
   "cell_type": "code",
   "execution_count": null,
   "metadata": {},
   "outputs": [],
   "source": [
    "serial_com.disconnect()"
   ]
  },
  {
   "cell_type": "code",
   "execution_count": 4,
   "metadata": {},
   "outputs": [],
   "source": [
    "serial_com.read_config_file('/Users/gbromley/code/ODIN/config/chirp_3DPeople.cfg')"
   ]
  },
  {
   "cell_type": "code",
   "execution_count": null,
   "metadata": {},
   "outputs": [],
   "source": [
    "serial_com.write_config()"
   ]
  },
  {
   "cell_type": "code",
   "execution_count": 6,
   "metadata": {},
   "outputs": [
    {
     "name": "stderr",
     "output_type": "stream",
     "text": [
      "Exception in thread Thread-4 (read_data):\n",
      "Traceback (most recent call last):\n",
      "  File \"/Users/gbromley/opt/anaconda3/envs/odin/lib/python3.11/threading.py\", line 1038, in _bootstrap_inner\n",
      "    self.run()\n",
      "  File \"/Users/gbromley/opt/anaconda3/envs/odin/lib/python3.11/site-packages/ipykernel/ipkernel.py\", line 766, in run_closure\n",
      "    _threading_Thread_run(self)\n",
      "  File \"/Users/gbromley/opt/anaconda3/envs/odin/lib/python3.11/threading.py\", line 975, in run\n",
      "    self._target(*self._args, **self._kwargs)\n",
      "  File \"/Users/gbromley/code/ODIN/src/python/uart/uart_comms.py\", line 102, in read_data\n",
      "    sync, version, total_packet_len, platform, frameNumber, subFrameNumber, chirpProcessingMargin, frameProcessingMargin, trackProcessTime, uartSentTime, numTLVs, checksum =  struct.unpack('Q9I2H', packet_header[:header_len])\n",
      "                                                                                                                                                                               ^^^^^^^^^^^^^^^^^^^^^^^^^^^^^^^^^^^^^^^^^^^^^^^^^^\n",
      "struct.error: unpack requires a buffer of 48 bytes\n"
     ]
    }
   ],
   "source": [
    "serial_com.start_streaming()"
   ]
  },
  {
   "cell_type": "code",
   "execution_count": null,
   "metadata": {},
   "outputs": [],
   "source": [
    "radar_processor = uc.RadarDataProcessor(serial_com)\n",
    "\n",
    "try:\n",
    "    for processed_data in radar_processor.process_data():\n",
    "        print(processed_data)\n",
    "except:\n",
    "    print(\"Stopping...\")\n",
    "finally:\n",
    "    serial_com.stop_streaming()\n",
    "    serial_com.disconnect()"
   ]
  },
  {
   "cell_type": "code",
   "execution_count": null,
   "metadata": {},
   "outputs": [],
   "source": [
    "for i in radar_processor.process_data():\n",
    "    print(i)"
   ]
  },
  {
   "cell_type": "code",
   "execution_count": null,
   "metadata": {},
   "outputs": [],
   "source": [
    "dataPort.read(headerLen-len(packetHeader))"
   ]
  },
  {
   "cell_type": "code",
   "execution_count": null,
   "metadata": {},
   "outputs": [],
   "source": [
    "def readConfigFile(configFileName):\n",
    "    try:\n",
    "        with open(configFileName, 'r') as fp:\n",
    "            cnt = 0\n",
    "            commands = []\n",
    "            for line in fp:\n",
    "                if (len(line) > 1):\n",
    "                    if (line[0] != '%'):\n",
    "                        commands.append(line)\n",
    "                        cnt += 1\n",
    "        return (cnt,commands)\n",
    "    except FileNotFoundError as err:\n",
    "        print(\"Chirp config file not found.\")\n",
    "    finally:\n",
    "        fp.close()\n",
    "        \n"
   ]
  },
  {
   "cell_type": "code",
   "execution_count": null,
   "metadata": {},
   "outputs": [],
   "source": [
    "readConfigFile(configFile_name)"
   ]
  },
  {
   "cell_type": "code",
   "execution_count": null,
   "metadata": {},
   "outputs": [],
   "source": [
    "serialPorts = glob.glob('/dev/tty.SLAB*')\n",
    "print(serialPorts)"
   ]
  },
  {
   "cell_type": "code",
   "execution_count": null,
   "metadata": {},
   "outputs": [],
   "source": [
    "\n",
    "configPort = serial.Serial(serialPorts[1], 115200, parity=serial.PARITY_NONE, stopbits=serial.STOPBITS_ONE, timeout=0.3)\n",
    "dataPort = serial.Serial(serialPorts[0],921600, parity=serial.PARITY_NONE, stopbits=serial.STOPBITS_ONE, timeout=0.3)"
   ]
  },
  {
   "cell_type": "code",
   "execution_count": null,
   "metadata": {},
   "outputs": [],
   "source": [
    "configPort.close()\n",
    "dataPort.close()"
   ]
  },
  {
   "cell_type": "code",
   "execution_count": null,
   "metadata": {},
   "outputs": [],
   "source": [
    "def writeConfig(configPort, configFileName):\n",
    "    cnt,commands = readConfigFile(configFileName)\n",
    "    \n",
    "    for i in range(cnt):\n",
    "        configPort.write(bytearray(commands[i].encode()))\n",
    "        time.sleep(20e-3)\n",
    "        response = bytearray([])\n",
    "        while(configPort.in_waiting > 0):\n",
    "            response += configPort.read(1)\n",
    "        print(response.decode())"
   ]
  },
  {
   "cell_type": "code",
   "execution_count": null,
   "metadata": {},
   "outputs": [],
   "source": [
    "writeConfig(configPort, configFile_name)"
   ]
  },
  {
   "cell_type": "code",
   "execution_count": null,
   "metadata": {},
   "outputs": [],
   "source": [
    "def signal_handler(signal, frame):\n",
    "        global run\n",
    "        print(\"exiting\")\n",
    "        run = False"
   ]
  },
  {
   "cell_type": "code",
   "execution_count": null,
   "metadata": {},
   "outputs": [],
   "source": [
    "dataPort.isOpen()"
   ]
  },
  {
   "cell_type": "code",
   "execution_count": null,
   "metadata": {},
   "outputs": [],
   "source": [
    "signal.signal(signal.SIGINT, signal_handler)   "
   ]
  },
  {
   "cell_type": "code",
   "execution_count": null,
   "metadata": {},
   "outputs": [],
   "source": [
    "dataPort.in_waiting\n"
   ]
  },
  {
   "cell_type": "code",
   "execution_count": null,
   "metadata": {},
   "outputs": [],
   "source": [
    "def readPacketHeader(dataPort):\n",
    "    dataPort.reset_input_buffer()\n",
    "\n",
    "    \n",
    "    \n",
    "    syncPattern = 0x708050603040102\n",
    "    ### Packet header is 40 total bytes, 8 bytes for magic/sync word and 32 bytes for 8 other variables. \n",
    "    ### The format for struct.unpack is Q8I because the magic word is 8 bytes and Q stands for unsigned long long. 8I means that 8 unsigned ints follow\n",
    "    packetHeader = bytearray([])\n",
    "    tlvHeaderLen = 8\n",
    "    headerLen = 40\n",
    "    timePacket = time.time()\n",
    "    run = True\n",
    "    \n",
    "    while(True):\n",
    "        \n",
    "        try:\n",
    "            \n",
    "            \n",
    "            ### These lines of code basically grab the header data and shifts it by one until the sync value is found. \n",
    "            packetHeader += dataPort.read(headerLen-len(packetHeader))\n",
    "            \n",
    "            #print(len(packetHeader))\n",
    "            sync, version, totalPacketLen, platform, frameNumber, timeCpuCycles, numDetectedObj, numTLVs, subFrameNumber =  struct.unpack('Q8I', packetHeader[:headerLen])\n",
    "            if (sync == syncPattern):\n",
    "                \n",
    "                print('success')\n",
    "                print(time.perf_counter())\n",
    "                print(f'MagicWord: {sync}, Version: {version}, Total Packet Length: {totalPacketLen}, Platform: {platform}, Frame Number: {frameNumber}, Time CPU Cycles {timeCpuCycles}, Number of Objects: {numDetectedObj}, Number of TLVs: {numTLVs}, Sub Frame Number: {subFrameNumber}')\n",
    "                    \n",
    "                return sync, version, totalPacketLen, platform, frameNumber, timeCpuCycles, numDetectedObj, numTLVs, subFrameNumber\n",
    "                #break\n",
    "            else:\n",
    "                packetHeader = packetHeader[1:]\n",
    "        except serial.SerialException as serialError:\n",
    "            print('Something is not correct with the serial port')\n",
    "            break\n",
    "            \n",
    "        except KeyboardInterrupt:\n",
    "            break"
   ]
  },
  {
   "cell_type": "code",
   "execution_count": null,
   "metadata": {},
   "outputs": [],
   "source": [
    "\n",
    "\n",
    "readPacketHeader(dataPort)\n"
   ]
  },
  {
   "cell_type": "code",
   "execution_count": null,
   "metadata": {},
   "outputs": [],
   "source": [
    "dataPort.reset_input_buffer()\n",
    "dataPort.in_waiting\n"
   ]
  },
  {
   "cell_type": "code",
   "execution_count": null,
   "metadata": {},
   "outputs": [],
   "source": [
    "def testData():\n",
    "    \n",
    "    sync, version, totalPacketLen, platform, frameNumber, timeCpuCycles, numDetectedObj, numTLVs, subFrameNumber = readPacketHeader(dataPort)\n",
    "    print(sync)\n",
    "    "
   ]
  },
  {
   "cell_type": "code",
   "execution_count": null,
   "metadata": {},
   "outputs": [],
   "source": [
    "dataPort.read()"
   ]
  },
  {
   "cell_type": "code",
   "execution_count": null,
   "metadata": {},
   "outputs": [],
   "source": [
    "def readDataFrame(dataPort):\n",
    "    start = time.time()\n",
    "    timePacket = time.time()\n",
    "    headerLen = 40\n",
    "    tlvHeaderLen = 8\n",
    "    radarData = []\n",
    "    #packetHeader += dataPort.read(headerLen-len(packetHeader))\n",
    "    ### Packet header is 40 total bytes, 8 bytes for magic/sync word and 32 bytes for 8 other variables. \n",
    "    ### The format for struct.unpack is Q8I because the magic word is 8 bytes and Q stands for unsigned long long. 8I means that 8 unsigned ints follow\n",
    "    sync, version, totalPacketLen, platform, frameNumber, timeCpuCycles, numDetectedObj, numTLVs, subFrameNumber = readPacketHeader(dataPort)\n",
    "\n",
    "    if (sync == syncPattern):\n",
    "\n",
    "        packetPayload = bytearray([])\n",
    "        packetPayload = dataPort.read(totalPacketLen-headerLen)\n",
    "\n",
    "        detectedObjects = np.zeros((numDetectedObj, 6))\n",
    "\n",
    "        for i in range(numTLVs):\n",
    "\n",
    "            tlvType, tlvLength = struct.unpack('2I', packetPayload[:tlvHeaderLen])\n",
    "\n",
    "            if (tlvType > 20 or tlvLength > 10000):\n",
    "                packetHeader = bytearray([])\n",
    "                break\n",
    "\n",
    "            packetPayload = packetPayload[tlvHeaderLen:]\n",
    "\n",
    "            if (tlvType == 1):\n",
    "\n",
    "                for j in range(numDetectedObj):\n",
    "\n",
    "                    x, y, z, v = struct.unpack('4f', packetPayload[:16])\n",
    "                    \n",
    "                    detectedObjects[j, 0] = x\n",
    "                    detectedObjects[j, 1] = y\n",
    "                    detectedObjects[j, 2] = z\n",
    "                    detectedObjects[j, 3] = v\n",
    "\n",
    "                    packetPayload = packetPayload[16:]\n",
    "\n",
    "            elif (tlvType == 7):\n",
    "\n",
    "                for j in range(numDetectedObj):\n",
    "\n",
    "                    snr, noise = struct.unpack('2H', packetPayload[:4])\n",
    "\n",
    "                    detectedObjects[j, 4] = snr\n",
    "                    detectedObjects[j, 5] = noise\n",
    "\n",
    "                    #if (printPointCloud):\n",
    "                        \n",
    "                        #print('x: %1.3f m, y: %1.3f m, z: %1.3f m, v: %1.3f m/s, snr: %d, noise: %d' % (detectedObjects[j, 0], detectedObjects[j, 1], detectedObjects[j, 2], detectedObjects[j, 3], detectedObjects[j, 4], detectedObjects[j, 5]))\n",
    "\n",
    "                    packetPayload = packetPayload[4:]\n",
    "    return detectedObjects"
   ]
  },
  {
   "cell_type": "code",
   "execution_count": null,
   "metadata": {},
   "outputs": [],
   "source": [
    "readDataFrame(dataPort)"
   ]
  },
  {
   "cell_type": "code",
   "execution_count": null,
   "metadata": {},
   "outputs": [],
   "source": [
    "from IPython.display import clear_output\n",
    "while(True):\n",
    "    clear_output(wait=True)\n",
    "    readDataFrame(dataPort)"
   ]
  },
  {
   "cell_type": "code",
   "execution_count": null,
   "metadata": {},
   "outputs": [],
   "source": [
    "readDataFrame(dataPort)"
   ]
  }
 ],
 "metadata": {
  "kernelspec": {
   "display_name": "aegis",
   "language": "python",
   "name": "python3"
  },
  "language_info": {
   "codemirror_mode": {
    "name": "ipython",
    "version": 3
   },
   "file_extension": ".py",
   "mimetype": "text/x-python",
   "name": "python",
   "nbconvert_exporter": "python",
   "pygments_lexer": "ipython3",
   "version": "3.11.5"
  },
  "orig_nbformat": 4
 },
 "nbformat": 4,
 "nbformat_minor": 2
}
