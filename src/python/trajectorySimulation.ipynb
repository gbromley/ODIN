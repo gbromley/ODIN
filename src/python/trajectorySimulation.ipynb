{
 "cells": [
  {
   "cell_type": "code",
   "execution_count": null,
   "metadata": {},
   "outputs": [],
   "source": [
    "import numpy as np\n",
    "import matplotlib.pyplot as plt\n",
    "import scipy as sp\n",
    "from scipy.optimize import curve_fit"
   ]
  },
  {
   "cell_type": "code",
   "execution_count": null,
   "metadata": {},
   "outputs": [],
   "source": [
    "def noisyTrajectory(v_0,theta,y_0):\n",
    "    # V_0 needs to be in m/s\n",
    "    theta = np.deg2rad(theta)\n",
    "    t_f = (v_0*np.sin(theta) + np.sqrt(np.square(v_0*np.sin(theta)) +2*9.8*y_0))/9.8\n",
    "    print(t_f)\n",
    "    samplingInterval = int(30*t_f) ### 20Hz data collection\n",
    "    time = np.linspace(0,t_f,samplingInterval)\n",
    "\n",
    "    rng = np.random.default_rng()\n",
    "    \n",
    "    x_vals = (v_0)*time*np.cos(theta)\n",
    "    x_noisy = x_vals +rng.normal(0,.1,len(time))\n",
    "    y_vals = (v_0*time*np.sin(theta) - (0.5*9.8*np.square(time)))+y_0 ### Starting height\n",
    "    y_noisy = y_vals+rng.normal(0,.25,len(time))\n",
    "    return x_vals,y_vals,x_noisy,y_noisy,time\n",
    "\n"
   ]
  },
  {
   "cell_type": "code",
   "execution_count": null,
   "metadata": {},
   "outputs": [],
   "source": [
    "def nerfDartTrajectory(v_0,theta,y_0,error):\n",
    "    theta = np.deg2rad(theta)\n",
    "    t_f = (v_0*np.sin(theta) + np.sqrt(np.square(v_0*np.sin(theta)) +2*9.8*y_0))/9.8\n",
    "    #print(t_f)\n",
    "    samplingInterval = int(20*t_f) ### 20Hz data collection\n",
    "    time = np.linspace(0,t_f,samplingInterval)\n",
    "    print(time)\n",
    "    rng = np.random.default_rng()\n",
    "    \n",
    "    v_0 = v_0+rng.normal(0,error,1)\n",
    "    x_vals = (v_0)*time*np.cos(theta)\n",
    "    y_vals = (v_0*time*np.sin(theta) - (0.5*9.8*np.square(time)))+y_0 ### Starting height\n",
    "    print(v_0)\n",
    "    return x_vals,y_vals\n"
   ]
  },
  {
   "cell_type": "code",
   "execution_count": null,
   "metadata": {},
   "outputs": [],
   "source": [
    "plt.figure(figsize=(13,7),dpi=200)\n",
    "colors = plt.cm.jet(np.linspace(0,1,100))\n",
    "for i in np.arange(0,100):\n",
    "    xvals,yvals = nerfDartTrajectory(80,5,.5,7)\n",
    "    plt.plot(xvals,yvals, color=colors[i], alpha=0.5)\n",
    "plt.xlim([0, 30])"
   ]
  },
  {
   "cell_type": "code",
   "execution_count": null,
   "metadata": {},
   "outputs": [],
   "source": [
    "np.matmul([x1,x2,y1,y1],[])"
   ]
  },
  {
   "cell_type": "code",
   "execution_count": null,
   "metadata": {},
   "outputs": [],
   "source": [
    "import sympy as sp"
   ]
  },
  {
   "cell_type": "code",
   "execution_count": null,
   "metadata": {},
   "outputs": [],
   "source": [
    "sp.Symbol('Xt,dxdt,Yt,dydt')"
   ]
  },
  {
   "cell_type": "code",
   "execution_count": null,
   "metadata": {},
   "outputs": [],
   "source": [
    "sp.Symbol('Xt,dxdt,Yt,dydt')\n",
    "state1 = sp.Matrix([[0,1,0,0],[0,0,0,0],[0,0,1,0],[0,0,0,0]])\n",
    "state2 = sp.Matrix([['Xt','dxdt','Yt','dydt']])\n",
    "state2.multiply(state1) + sp.Matrix([[0,0,0,'-g']])+ sp.Matrix([[0,'us',0,'us']])"
   ]
  },
  {
   "cell_type": "code",
   "execution_count": null,
   "metadata": {},
   "outputs": [],
   "source": [
    "state1"
   ]
  },
  {
   "cell_type": "code",
   "execution_count": null,
   "metadata": {},
   "outputs": [],
   "source": [
    "def x_motion(time,v,theta):\n",
    "   \n",
    "    return v*time*np.cos(theta)\n",
    "\n",
    "def y_motion(time,v, theta, h):\n",
    "    return v*time*np.sin(theta) - 0.5*9.8*np.square(time) + h\n"
   ]
  },
  {
   "cell_type": "code",
   "execution_count": null,
   "metadata": {},
   "outputs": [],
   "source": [
    "xvals,yvals, xnoisy, ynoisy, time = noisyTrajectory(8,60,3)\n"
   ]
  },
  {
   "cell_type": "code",
   "execution_count": null,
   "metadata": {},
   "outputs": [],
   "source": [
    "np.power(.99,5)"
   ]
  },
  {
   "cell_type": "code",
   "execution_count": null,
   "metadata": {},
   "outputs": [],
   "source": [
    "time"
   ]
  },
  {
   "cell_type": "code",
   "execution_count": null,
   "metadata": {},
   "outputs": [],
   "source": [
    "xvals,yvals, xnoisy, ynoisy, time = noisyTrajectory(8,25,1)\n",
    "plt.figure(figsize=(13,7),dpi=200)\n",
    "colors = plt.cm.jet(np.linspace(0,1,len(time)))\n",
    "plt.scatter(xnoisy,ynoisy)\n",
    "\n",
    "\n",
    "for i,_ in enumerate(time[3:], start=3):\n",
    "    #print(np.power(i,6))\n",
    "    end = i\n",
    "    params_x,cov_x = curve_fit(x_motion,time[0:end],xnoisy[0:end])\n",
    "    params_y,cov_y = curve_fit(y_motion,time[0:end],ynoisy[0:end])\n",
    "    xfit = x_motion(time,*params_x)\n",
    "    yfit = y_motion(time,*params_y)\n",
    "    x_sse = np.sum(np.square(xnoisy[0:end] - xfit[0:end]))\n",
    "    y_sse = np.sum(np.square(ynoisy[0:end] - yfit[0:end]))\n",
    "    #print(cov_y.size)\n",
    "    \n",
    "    plt.plot(xfit,yfit, label= 'Error : ', color=colors[i], alpha=0.5)\n",
    "\n",
    "plt.plot(xvals,yvals,color='black')\n",
    "plt.legend()"
   ]
  },
  {
   "cell_type": "code",
   "execution_count": null,
   "metadata": {},
   "outputs": [],
   "source": [
    "plt.scatter(xnoisy,ynoisy)\n",
    "plt.plot(xfit,yfit,color='red')\n",
    "plt.plot(xvals,yvals,color='purple')"
   ]
  },
  {
   "cell_type": "code",
   "execution_count": null,
   "metadata": {},
   "outputs": [],
   "source": [
    "time"
   ]
  },
  {
   "cell_type": "code",
   "execution_count": null,
   "metadata": {},
   "outputs": [],
   "source": [
    "np.linspace(0,5,20*5)"
   ]
  },
  {
   "cell_type": "code",
   "execution_count": null,
   "metadata": {},
   "outputs": [],
   "source": []
  }
 ],
 "metadata": {
  "interpreter": {
   "hash": "4658befd01a34b5c791b5a7e9a8cabae17dfb90267edba86259674191e7dfdfa"
  },
  "kernelspec": {
   "display_name": "Python 3.9.7 ('aegis')",
   "language": "python",
   "name": "python3"
  },
  "language_info": {
   "codemirror_mode": {
    "name": "ipython",
    "version": 3
   },
   "file_extension": ".py",
   "mimetype": "text/x-python",
   "name": "python",
   "nbconvert_exporter": "python",
   "pygments_lexer": "ipython3",
   "version": "3.9.12"
  },
  "orig_nbformat": 4
 },
 "nbformat": 4,
 "nbformat_minor": 2
}
